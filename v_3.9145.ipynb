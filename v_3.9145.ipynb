{
 "cells": [
  {
   "cell_type": "code",
   "execution_count": 1,
   "metadata": {
    "ExecuteTime": {
     "end_time": "2018-11-11T15:56:29.616703Z",
     "start_time": "2018-11-11T15:56:28.111627Z"
    }
   },
   "outputs": [],
   "source": [
    "import pandas as pd\n",
    "import numpy as np\n",
    "import matplotlib.pyplot as plt\n",
    "import pickle\n",
    "import re\n",
    "import csv\n",
    "import reverse_geocoder as rg\n",
    "\n",
    "from sklearn.metrics import mean_absolute_error, mean_squared_log_error \n",
    "\n",
    "import nltk\n",
    "import pymorphy2\n",
    "from pymorphy2.tagset import OpencorporaTag\n",
    "from sklearn.feature_extraction.text import CountVectorizer, TfidfTransformer, TfidfVectorizer\n",
    "\n",
    "from sklearn.pipeline import Pipeline\n",
    "\n",
    "from sklearn.model_selection import RandomizedSearchCV\n",
    "from sklearn.model_selection import StratifiedKFold\n",
    "\n",
    "from sklearn.ensemble import RandomForestRegressor\n",
    "# from sklearn.tree import ExtraTreeRegressor\n",
    "# from catboost import CatBoostRegressor\n",
    "\n",
    "from sklearn.model_selection import train_test_split\n",
    "\n",
    "%matplotlib inline\n",
    "\n",
    "import warnings\n",
    "warnings.filterwarnings('ignore')"
   ]
  },
  {
   "cell_type": "code",
   "execution_count": 2,
   "metadata": {
    "ExecuteTime": {
     "end_time": "2018-11-11T15:56:30.026823Z",
     "start_time": "2018-11-11T15:56:29.785385Z"
    },
    "code_folding": []
   },
   "outputs": [
    {
     "name": "stdout",
     "output_type": "stream",
     "text": [
      "[nltk_data] Downloading package stopwords to /root/nltk_data...\n",
      "[nltk_data]   Package stopwords is already up-to-date!\n"
     ]
    }
   ],
   "source": [
    "ma = pymorphy2.MorphAnalyzer()\n",
    "parse_results = {}\n",
    "latin = OpencorporaTag('LATN')\n",
    "\n",
    "def get_parse_result(word):\n",
    "    word = word.lower()\n",
    "    if not (word in parse_results):\n",
    "        pv = ma.parse(word)\n",
    "        for p in pv:\n",
    "            if p.tag.POS in ['ADJF', 'NOUN', 'VERB'] or p.tag == latin:\n",
    "                parse_results[word] = p.normal_form\n",
    "                break\n",
    "\n",
    "    if not (word in parse_results):\n",
    "        parse_results[word] = None\n",
    "\n",
    "    return parse_results[word]\n",
    "\n",
    "\n",
    "# получаем слова\n",
    "def getMeaningfullWords(text):\n",
    "    meaning_words = []\n",
    "    clean_text = re.sub('—.*', '', text)\n",
    "    all_words = re.findall('[А-ЯЁа-яёA-Za-z]{3,}', clean_text)\n",
    "\n",
    "    for word in all_words:\n",
    "        parse_result = get_parse_result(word)\n",
    "        if parse_result is not None:\n",
    "            meaning_words.append(parse_result)\n",
    "\n",
    "    return meaning_words\n",
    "\n",
    "# заливаем стоп-слова:\n",
    "nltk.download('stopwords')\n",
    "stop_words = nltk.corpus.stopwords.words('russian')    \n",
    "count_vect = TfidfVectorizer(\n",
    "    tokenizer=getMeaningfullWords,\n",
    "    stop_words=stop_words,\n",
    "    smooth_idf=True,\n",
    "    sublinear_tf=True,\n",
    "    min_df=0.024,\n",
    "    max_df=0.8,\n",
    "    norm='l2')\n",
    "\n",
    "def df_to_cv(df, test): \n",
    "    \n",
    "    #  для тренировочного датасета fit_transform, для тестового transform:\n",
    "    if not test:\n",
    "        matrix_tfidf = count_vect.fit_transform(df['name']).toarray()\n",
    "    else:\n",
    "        matrix_tfidf = count_vect.transform(df['name']).toarray()\n",
    "\n",
    "    df = df.join(\n",
    "        pd.DataFrame(matrix_tfidf, columns=count_vect.get_feature_names()),\n",
    "        how='left')\n",
    "    df = df.drop('name', axis=1)\n",
    "    \n",
    "    return df"
   ]
  },
  {
   "cell_type": "code",
   "execution_count": 3,
   "metadata": {
    "ExecuteTime": {
     "end_time": "2018-11-11T15:56:30.722921Z",
     "start_time": "2018-11-11T15:56:30.691788Z"
    },
    "code_folding": [
     54,
     113
    ]
   },
   "outputs": [],
   "source": [
    "def preproc(data_frame, test):\n",
    "\n",
    "    df = pd.DataFrame(data_frame)\n",
    "\n",
    "    #   переконвертируем цену в рубли для тренировочного датасета:\n",
    "    if not test:\n",
    "        df['price'] = df['price'].map(lambda x: int(x / 100))\n",
    "        df = df[df['price'] >= 0]\n",
    "    \n",
    "    #   удалим айдишники:\n",
    "    df = df.drop('id', axis=1)\n",
    "\n",
    "    #   True и False заменим на 1 и 0 соответственно:\n",
    "    df['payment_available'] = df['payment_available'].map({False: 0, True: 1})\n",
    "\n",
    "    #   заменим 1-2 раза встречающиеся подкатегории наиболее подходящими:\n",
    "    df['subcategory'] = df['subcategory'].replace({\n",
    "        10002: 10001,\n",
    "        815: 905,\n",
    "        1806: 1305\n",
    "    })\n",
    "\n",
    "    #   заменим 1 раз встречающуюся категорию\n",
    "    df['category'] = df['category'].replace({18: 13})\n",
    "\n",
    "    #   обработаем координаты, добавив города и районы:\n",
    "    coordinates = []\n",
    "    for i, row in df.iterrows():\n",
    "        coordinates.append(\n",
    "            (row['location']['latitude'], row['location']['longitude']))\n",
    "    coordinates = rg.search(coordinates)\n",
    "    coordinates = pd.DataFrame(coordinates)\n",
    "    coordinates = coordinates.rename(\n",
    "        columns={'admin1': 'city', 'name': 'subcity'})\n",
    "    df = df.join(coordinates[['subcity', 'lat', 'lon', 'city']])\n",
    "\n",
    "    #   редко встречающиеся города и районы объединим в отдельные группы:\n",
    "    df = df.apply(lambda x: x.mask(x.map(x.value_counts()) <\n",
    "                                   110, 'other_city') if x.name == 'city' else x)\n",
    "    df = df.apply(lambda x: x.mask(x.map(x.value_counts()) <= 10,\n",
    "                                   'other_subcity') if x.name == 'subcity' else x)\n",
    "    \n",
    "    #   закодируем города и районы их частотами:\n",
    "    df = df.apply(lambda x: x.map(x.value_counts())\n",
    "                  if x.name == 'subcity' else x)\n",
    "    df = df.apply(lambda x: x.map(x.value_counts()) if x.name == 'city' else x)\n",
    "\n",
    "    #   почистим описание от довйных пробелов:\n",
    "    df['description'] = df['description'].map(\n",
    "        lambda x: x.lower().strip().replace(\"  \", \" \"))\n",
    "    \n",
    "    #   заменим разные варианты написаня одних слов:\n",
    "    df['name'] = df['name'].map(lambda x:\n",
    "                                x.lower().strip().replace('айфон', 'iphone').replace('самсунг', 'samsung'))\n",
    "\n",
    "    #  найдем всё бесплатное и запишем в отдельную колонку:\n",
    "    df['free'] = np.where(\n",
    "        (\n",
    "            (df['description'].str.contains(\"почти за\") == False) &\n",
    "            (df['description'].str.contains(\"почти даром\") == False) &\n",
    "            (df['description'].str.contains(\"почти бесплатно\") == False) &\n",
    "            (df['description'].str.contains(\"даром за\") == False) &\n",
    "            (df['description'].str.contains(\"прода\") == False) &\n",
    "            (df['description'].str.contains(\"бесплатно привезу\") == False) &\n",
    "            (df['description'].str.contains(\"недорого\") == False) &\n",
    "            (df['description'].str.contains(\"практически\") == False) &\n",
    "            (df['description'].str.contains(\"нуждающим\") == False) &\n",
    "            (df['description'].str.contains(\"можно сказать\") == False) &\n",
    "            (df['description'].str.contains(\"цена\") == False) &\n",
    "            (df['description'].str.contains(\"считай\") == False) &\n",
    "            (df['description'].str.contains(\"при заказе\") == False) &\n",
    "            (df['description'].str.contains(\"при покупке\") == False) &\n",
    "            (df['description'].str.contains(\" символ\") == False) &\n",
    "            (df['description'].str.contains(\"чехол\") == False) &\n",
    "            (df['description'].str.contains(\"чехлы\") == False) &\n",
    "            (df['description'].str.contains(\"монтаж\") == False) &\n",
    "            (df['description'].str.contains(\"установк\") == False) &\n",
    "            (df['description'].str.contains(\"дешевле только\") == False) &\n",
    "\n",
    "            (df['name'].str.contains(\"прода\") == False) &\n",
    "            (df['name'].str.contains(\"почти\") == False) &\n",
    "            (df['name'].str.contains(\"считай\") == False)\n",
    "        ) & (\n",
    "            (\n",
    "                (\n",
    "                    (df['name'].str.contains(\"даром\")) |\n",
    "                    (df['name'].str.contains(\"бесплатно\"))\n",
    "                ) &\n",
    "                (df['name'].str.contains(\"достав\") == False) &\n",
    "                (df['name'].str.contains(\"привез\") == False)\n",
    "            ) | (\n",
    "                (\n",
    "                    (df['description'].str.contains(\"бесплатно\")) |\n",
    "                    (df['description'].str.contains(\"даром\"))\n",
    "                ) &\n",
    "                (df['description'].str.contains(\"достав\") == False) &\n",
    "                (df['description'].str.contains(\"привез\") == False)\n",
    "            )\n",
    "        ), 1, 0)\n",
    "\n",
    "    #   объединим названия (увеличим значимость), описания и наличие станции метро:\n",
    "    df['name'] = (df['name']+' ')*2\n",
    "    df['name'] = df[['name', 'description']].apply(\n",
    "        lambda x: ' '.join(x), axis=1)\n",
    "    df['subway'] = df['subway'].fillna('').astype(str)\n",
    "    df['name'] = df[['name', 'subway']].apply(lambda x: ' '.join(x), axis=1)\n",
    "\n",
    "    #   заменим описание на его длину:\n",
    "    df['description'] = df['description'].map(lambda x: len(x))\n",
    "\n",
    "    #   кол-во картинок:\n",
    "    df['images'] = df['images'].map(lambda x: len(x))\n",
    "\n",
    "    #   кол-во словарей с полями:\n",
    "    df['fields'] = df['fields'].map(lambda x: len(x))\n",
    "    \n",
    "    #   удалим не информативные колонки:\n",
    "    df = df.drop(['can_buy', 'can_promote', 'contacts_visible', 'mortgage_available', 'delivery_available',\n",
    "                  'fields', 'category', 'location', 'images', 'subway'], axis=1)\n",
    "\n",
    "    return df.fillna(0)"
   ]
  },
  {
   "cell_type": "markdown",
   "metadata": {},
   "source": [
    "# Работа с train_sample, тестирование"
   ]
  },
  {
   "cell_type": "code",
   "execution_count": 4,
   "metadata": {
    "ExecuteTime": {
     "end_time": "2018-11-11T15:56:40.033356Z",
     "start_time": "2018-11-11T15:56:35.306166Z"
    }
   },
   "outputs": [],
   "source": [
    "train_sample = pickle.load(open('data2/train_sample.pckl', 'rb')).reset_index(drop=True)"
   ]
  },
  {
   "cell_type": "code",
   "execution_count": 6,
   "metadata": {
    "ExecuteTime": {
     "end_time": "2018-11-11T14:58:49.408525Z",
     "start_time": "2018-11-11T14:58:49.353571Z"
    }
   },
   "outputs": [
    {
     "data": {
      "text/html": [
       "<div>\n",
       "<style scoped>\n",
       "    .dataframe tbody tr th:only-of-type {\n",
       "        vertical-align: middle;\n",
       "    }\n",
       "\n",
       "    .dataframe tbody tr th {\n",
       "        vertical-align: top;\n",
       "    }\n",
       "\n",
       "    .dataframe thead th {\n",
       "        text-align: right;\n",
       "    }\n",
       "</style>\n",
       "<table border=\"1\" class=\"dataframe\">\n",
       "  <thead>\n",
       "    <tr style=\"text-align: right;\">\n",
       "      <th></th>\n",
       "      <th>can_buy</th>\n",
       "      <th>can_promote</th>\n",
       "      <th>category</th>\n",
       "      <th>contacts_visible</th>\n",
       "      <th>date_created</th>\n",
       "      <th>delivery_available</th>\n",
       "      <th>description</th>\n",
       "      <th>fields</th>\n",
       "      <th>id</th>\n",
       "      <th>images</th>\n",
       "      <th>location</th>\n",
       "      <th>mortgage_available</th>\n",
       "      <th>name</th>\n",
       "      <th>payment_available</th>\n",
       "      <th>price</th>\n",
       "      <th>subcategory</th>\n",
       "      <th>subway</th>\n",
       "    </tr>\n",
       "  </thead>\n",
       "  <tbody>\n",
       "    <tr>\n",
       "      <th>0</th>\n",
       "      <td>False</td>\n",
       "      <td>False</td>\n",
       "      <td>9</td>\n",
       "      <td>True</td>\n",
       "      <td>1492780671</td>\n",
       "      <td>False</td>\n",
       "      <td></td>\n",
       "      <td>[{'order': 1, 'field': {'type': 'category', 'i...</td>\n",
       "      <td>3edeb34cf93f490ff760af85</td>\n",
       "      <td>[{'height': 3024, 'id': '58fa06746c86cb4f22313...</td>\n",
       "      <td>{'latitude': 55.806888, 'longitude': 37.546077}</td>\n",
       "      <td>False</td>\n",
       "      <td>Сумка DG</td>\n",
       "      <td>True</td>\n",
       "      <td>199900</td>\n",
       "      <td>914</td>\n",
       "      <td>NaN</td>\n",
       "    </tr>\n",
       "    <tr>\n",
       "      <th>1</th>\n",
       "      <td>False</td>\n",
       "      <td>False</td>\n",
       "      <td>22</td>\n",
       "      <td>True</td>\n",
       "      <td>1476824319</td>\n",
       "      <td>False</td>\n",
       "      <td>8-12 лет</td>\n",
       "      <td>[{'order': 1, 'field': {'type': 'category', 'i...</td>\n",
       "      <td>c98febd50dad3cc0ffc86085</td>\n",
       "      <td>[{'id': '58068ccc04559f59bdbda92d', 'num': 1, ...</td>\n",
       "      <td>{'latitude': 55.692979, 'longitude': 37.872337}</td>\n",
       "      <td>False</td>\n",
       "      <td>Комплект</td>\n",
       "      <td>False</td>\n",
       "      <td>35000</td>\n",
       "      <td>2202</td>\n",
       "      <td>NaN</td>\n",
       "    </tr>\n",
       "    <tr>\n",
       "      <th>2</th>\n",
       "      <td>False</td>\n",
       "      <td>False</td>\n",
       "      <td>22</td>\n",
       "      <td>True</td>\n",
       "      <td>1473004313</td>\n",
       "      <td>False</td>\n",
       "      <td>На девочку 1,5 г,состояние хорошее</td>\n",
       "      <td>[{'order': 1, 'field': {'type': 'category', 'i...</td>\n",
       "      <td>ade01e13912a46a99134cc75</td>\n",
       "      <td>[{'id': '57cc42ecd53f3dcf17dc01c8', 'num': 1, ...</td>\n",
       "      <td>{'latitude': 55.639011, 'longitude': 37.349378}</td>\n",
       "      <td>False</td>\n",
       "      <td>Пальтишко демисезонное</td>\n",
       "      <td>False</td>\n",
       "      <td>30000</td>\n",
       "      <td>2204</td>\n",
       "      <td>NaN</td>\n",
       "    </tr>\n",
       "    <tr>\n",
       "      <th>3</th>\n",
       "      <td>False</td>\n",
       "      <td>False</td>\n",
       "      <td>22</td>\n",
       "      <td>True</td>\n",
       "      <td>1476307221</td>\n",
       "      <td>False</td>\n",
       "      <td>Размер-135mm, euro-22.5.Прочная, мягкая, не ск...</td>\n",
       "      <td>[{'order': 1, 'field': {'type': 'category', 'i...</td>\n",
       "      <td>ab3e6941c11304c1519aef75</td>\n",
       "      <td>[{'id': '580546528ae74be97723532e', 'num': 1, ...</td>\n",
       "      <td>{'latitude': 55.847334, 'longitude': 37.495834}</td>\n",
       "      <td>False</td>\n",
       "      <td>Attipas</td>\n",
       "      <td>True</td>\n",
       "      <td>80000</td>\n",
       "      <td>2209</td>\n",
       "      <td>NaN</td>\n",
       "    </tr>\n",
       "    <tr>\n",
       "      <th>4</th>\n",
       "      <td>False</td>\n",
       "      <td>False</td>\n",
       "      <td>22</td>\n",
       "      <td>True</td>\n",
       "      <td>1503487787</td>\n",
       "      <td>False</td>\n",
       "      <td></td>\n",
       "      <td>[{'order': 1, 'field': {'type': 'category', 'i...</td>\n",
       "      <td>252452a91c944a22c276d995</td>\n",
       "      <td>[{'height': 720, 'id': '599d66f3f235022f7411a5...</td>\n",
       "      <td>{'latitude': 60.044826, 'longitude': 30.35546}</td>\n",
       "      <td>False</td>\n",
       "      <td>Жилет теплый</td>\n",
       "      <td>True</td>\n",
       "      <td>50000</td>\n",
       "      <td>2204</td>\n",
       "      <td>NaN</td>\n",
       "    </tr>\n",
       "  </tbody>\n",
       "</table>\n",
       "</div>"
      ],
      "text/plain": [
       "   can_buy  can_promote  category  contacts_visible  date_created  \\\n",
       "0    False        False         9              True    1492780671   \n",
       "1    False        False        22              True    1476824319   \n",
       "2    False        False        22              True    1473004313   \n",
       "3    False        False        22              True    1476307221   \n",
       "4    False        False        22              True    1503487787   \n",
       "\n",
       "   delivery_available                                        description  \\\n",
       "0               False                                                      \n",
       "1               False                                           8-12 лет   \n",
       "2               False                На девочку 1,5 г,состояние хорошее    \n",
       "3               False  Размер-135mm, euro-22.5.Прочная, мягкая, не ск...   \n",
       "4               False                                                      \n",
       "\n",
       "                                              fields  \\\n",
       "0  [{'order': 1, 'field': {'type': 'category', 'i...   \n",
       "1  [{'order': 1, 'field': {'type': 'category', 'i...   \n",
       "2  [{'order': 1, 'field': {'type': 'category', 'i...   \n",
       "3  [{'order': 1, 'field': {'type': 'category', 'i...   \n",
       "4  [{'order': 1, 'field': {'type': 'category', 'i...   \n",
       "\n",
       "                         id  \\\n",
       "0  3edeb34cf93f490ff760af85   \n",
       "1  c98febd50dad3cc0ffc86085   \n",
       "2  ade01e13912a46a99134cc75   \n",
       "3  ab3e6941c11304c1519aef75   \n",
       "4  252452a91c944a22c276d995   \n",
       "\n",
       "                                              images  \\\n",
       "0  [{'height': 3024, 'id': '58fa06746c86cb4f22313...   \n",
       "1  [{'id': '58068ccc04559f59bdbda92d', 'num': 1, ...   \n",
       "2  [{'id': '57cc42ecd53f3dcf17dc01c8', 'num': 1, ...   \n",
       "3  [{'id': '580546528ae74be97723532e', 'num': 1, ...   \n",
       "4  [{'height': 720, 'id': '599d66f3f235022f7411a5...   \n",
       "\n",
       "                                          location  mortgage_available  \\\n",
       "0  {'latitude': 55.806888, 'longitude': 37.546077}               False   \n",
       "1  {'latitude': 55.692979, 'longitude': 37.872337}               False   \n",
       "2  {'latitude': 55.639011, 'longitude': 37.349378}               False   \n",
       "3  {'latitude': 55.847334, 'longitude': 37.495834}               False   \n",
       "4   {'latitude': 60.044826, 'longitude': 30.35546}               False   \n",
       "\n",
       "                     name  payment_available   price  subcategory subway  \n",
       "0                Сумка DG               True  199900          914    NaN  \n",
       "1                Комплект              False   35000         2202    NaN  \n",
       "2  Пальтишко демисезонное              False   30000         2204    NaN  \n",
       "3                 Attipas               True   80000         2209    NaN  \n",
       "4            Жилет теплый               True   50000         2204    NaN  "
      ]
     },
     "execution_count": 6,
     "metadata": {},
     "output_type": "execute_result"
    }
   ],
   "source": [
    "train_sample.head()"
   ]
  },
  {
   "cell_type": "code",
   "execution_count": 5,
   "metadata": {
    "ExecuteTime": {
     "end_time": "2018-11-11T15:57:32.778950Z",
     "start_time": "2018-11-11T15:56:50.302913Z"
    },
    "scrolled": true
   },
   "outputs": [
    {
     "name": "stdout",
     "output_type": "stream",
     "text": [
      "Loading formatted geocoded file...\n"
     ]
    }
   ],
   "source": [
    "train_sample = train_sample.pipe(preproc, False).pipe(df_to_cv, False)"
   ]
  },
  {
   "cell_type": "code",
   "execution_count": 6,
   "metadata": {
    "ExecuteTime": {
     "end_time": "2018-11-11T15:57:34.089053Z",
     "start_time": "2018-11-11T15:57:34.081811Z"
    }
   },
   "outputs": [
    {
     "data": {
      "text/plain": [
       "(100000, 48)"
      ]
     },
     "execution_count": 6,
     "metadata": {},
     "output_type": "execute_result"
    }
   ],
   "source": [
    "train_sample.shape"
   ]
  },
  {
   "cell_type": "code",
   "execution_count": 7,
   "metadata": {
    "ExecuteTime": {
     "end_time": "2018-11-11T15:57:35.420826Z",
     "start_time": "2018-11-11T15:57:35.394916Z"
    }
   },
   "outputs": [
    {
     "data": {
      "text/html": [
       "<div>\n",
       "<style scoped>\n",
       "    .dataframe tbody tr th:only-of-type {\n",
       "        vertical-align: middle;\n",
       "    }\n",
       "\n",
       "    .dataframe tbody tr th {\n",
       "        vertical-align: top;\n",
       "    }\n",
       "\n",
       "    .dataframe thead th {\n",
       "        text-align: right;\n",
       "    }\n",
       "</style>\n",
       "<table border=\"1\" class=\"dataframe\">\n",
       "  <thead>\n",
       "    <tr style=\"text-align: right;\">\n",
       "      <th></th>\n",
       "      <th>date_created</th>\n",
       "      <th>description</th>\n",
       "      <th>payment_available</th>\n",
       "      <th>price</th>\n",
       "      <th>subcategory</th>\n",
       "      <th>subcity</th>\n",
       "      <th>lat</th>\n",
       "      <th>lon</th>\n",
       "      <th>city</th>\n",
       "      <th>free</th>\n",
       "      <th>...</th>\n",
       "      <th>состояние</th>\n",
       "      <th>телефон</th>\n",
       "      <th>торг</th>\n",
       "      <th>тёплый</th>\n",
       "      <th>удобный</th>\n",
       "      <th>фото</th>\n",
       "      <th>хороший</th>\n",
       "      <th>цвета</th>\n",
       "      <th>цена</th>\n",
       "      <th>чехол</th>\n",
       "    </tr>\n",
       "  </thead>\n",
       "  <tbody>\n",
       "    <tr>\n",
       "      <th>0</th>\n",
       "      <td>1492780671</td>\n",
       "      <td>0</td>\n",
       "      <td>1</td>\n",
       "      <td>1999</td>\n",
       "      <td>914</td>\n",
       "      <td>253</td>\n",
       "      <td>55.8</td>\n",
       "      <td>37.51667</td>\n",
       "      <td>13377</td>\n",
       "      <td>0</td>\n",
       "      <td>...</td>\n",
       "      <td>0.000000</td>\n",
       "      <td>0.0</td>\n",
       "      <td>0.0</td>\n",
       "      <td>0.0</td>\n",
       "      <td>0.0</td>\n",
       "      <td>0.0</td>\n",
       "      <td>0.000000</td>\n",
       "      <td>0.0</td>\n",
       "      <td>0.0</td>\n",
       "      <td>0.0</td>\n",
       "    </tr>\n",
       "    <tr>\n",
       "      <th>1</th>\n",
       "      <td>1476824319</td>\n",
       "      <td>8</td>\n",
       "      <td>0</td>\n",
       "      <td>350</td>\n",
       "      <td>2202</td>\n",
       "      <td>260</td>\n",
       "      <td>55.7</td>\n",
       "      <td>37.85</td>\n",
       "      <td>13377</td>\n",
       "      <td>0</td>\n",
       "      <td>...</td>\n",
       "      <td>0.000000</td>\n",
       "      <td>0.0</td>\n",
       "      <td>0.0</td>\n",
       "      <td>0.0</td>\n",
       "      <td>0.0</td>\n",
       "      <td>0.0</td>\n",
       "      <td>0.000000</td>\n",
       "      <td>0.0</td>\n",
       "      <td>0.0</td>\n",
       "      <td>0.0</td>\n",
       "    </tr>\n",
       "    <tr>\n",
       "      <th>2</th>\n",
       "      <td>1473004313</td>\n",
       "      <td>34</td>\n",
       "      <td>0</td>\n",
       "      <td>300</td>\n",
       "      <td>2204</td>\n",
       "      <td>176</td>\n",
       "      <td>55.64528</td>\n",
       "      <td>37.33583</td>\n",
       "      <td>13377</td>\n",
       "      <td>0</td>\n",
       "      <td>...</td>\n",
       "      <td>0.390589</td>\n",
       "      <td>0.0</td>\n",
       "      <td>0.0</td>\n",
       "      <td>0.0</td>\n",
       "      <td>0.0</td>\n",
       "      <td>0.0</td>\n",
       "      <td>0.525283</td>\n",
       "      <td>0.0</td>\n",
       "      <td>0.0</td>\n",
       "      <td>0.0</td>\n",
       "    </tr>\n",
       "    <tr>\n",
       "      <th>3</th>\n",
       "      <td>1476307221</td>\n",
       "      <td>493</td>\n",
       "      <td>1</td>\n",
       "      <td>800</td>\n",
       "      <td>2209</td>\n",
       "      <td>64</td>\n",
       "      <td>55.85381</td>\n",
       "      <td>37.49604</td>\n",
       "      <td>13377</td>\n",
       "      <td>0</td>\n",
       "      <td>...</td>\n",
       "      <td>0.000000</td>\n",
       "      <td>0.0</td>\n",
       "      <td>0.0</td>\n",
       "      <td>0.0</td>\n",
       "      <td>0.0</td>\n",
       "      <td>0.0</td>\n",
       "      <td>0.000000</td>\n",
       "      <td>0.0</td>\n",
       "      <td>0.0</td>\n",
       "      <td>0.0</td>\n",
       "    </tr>\n",
       "    <tr>\n",
       "      <th>4</th>\n",
       "      <td>1503487787</td>\n",
       "      <td>0</td>\n",
       "      <td>1</td>\n",
       "      <td>500</td>\n",
       "      <td>2204</td>\n",
       "      <td>260</td>\n",
       "      <td>60.06964</td>\n",
       "      <td>30.3487</td>\n",
       "      <td>2105</td>\n",
       "      <td>0</td>\n",
       "      <td>...</td>\n",
       "      <td>0.000000</td>\n",
       "      <td>0.0</td>\n",
       "      <td>0.0</td>\n",
       "      <td>1.0</td>\n",
       "      <td>0.0</td>\n",
       "      <td>0.0</td>\n",
       "      <td>0.000000</td>\n",
       "      <td>0.0</td>\n",
       "      <td>0.0</td>\n",
       "      <td>0.0</td>\n",
       "    </tr>\n",
       "  </tbody>\n",
       "</table>\n",
       "<p>5 rows × 48 columns</p>\n",
       "</div>"
      ],
      "text/plain": [
       "   date_created  description  payment_available  price  subcategory  subcity  \\\n",
       "0    1492780671            0                  1   1999          914      253   \n",
       "1    1476824319            8                  0    350         2202      260   \n",
       "2    1473004313           34                  0    300         2204      176   \n",
       "3    1476307221          493                  1    800         2209       64   \n",
       "4    1503487787            0                  1    500         2204      260   \n",
       "\n",
       "        lat       lon   city  free  ...    состояние  телефон  торг  тёплый  \\\n",
       "0      55.8  37.51667  13377     0  ...     0.000000      0.0   0.0     0.0   \n",
       "1      55.7     37.85  13377     0  ...     0.000000      0.0   0.0     0.0   \n",
       "2  55.64528  37.33583  13377     0  ...     0.390589      0.0   0.0     0.0   \n",
       "3  55.85381  37.49604  13377     0  ...     0.000000      0.0   0.0     0.0   \n",
       "4  60.06964   30.3487   2105     0  ...     0.000000      0.0   0.0     1.0   \n",
       "\n",
       "   удобный  фото   хороший  цвета  цена  чехол  \n",
       "0      0.0   0.0  0.000000    0.0   0.0    0.0  \n",
       "1      0.0   0.0  0.000000    0.0   0.0    0.0  \n",
       "2      0.0   0.0  0.525283    0.0   0.0    0.0  \n",
       "3      0.0   0.0  0.000000    0.0   0.0    0.0  \n",
       "4      0.0   0.0  0.000000    0.0   0.0    0.0  \n",
       "\n",
       "[5 rows x 48 columns]"
      ]
     },
     "execution_count": 7,
     "metadata": {},
     "output_type": "execute_result"
    }
   ],
   "source": [
    "train_sample.head()"
   ]
  },
  {
   "cell_type": "code",
   "execution_count": 8,
   "metadata": {
    "ExecuteTime": {
     "end_time": "2018-11-11T16:00:08.265303Z",
     "start_time": "2018-11-11T16:00:07.907463Z"
    }
   },
   "outputs": [],
   "source": [
    "# обучимся на части, у которой есть цена:\n",
    "part_df = train_sample[train_sample['price'] > 0]\n",
    "X_part, y_part = part_df.drop('price', axis=1).values, part_df['price'].values\n",
    "\n",
    "# на показатели при обучении по всем данным тоже посмотрим:\n",
    "X, y = train_sample.drop('price', axis =1).values, train_sample['price'].values\n",
    "\n",
    "# чистим переменные, которые не будем использовать, ради экономии памяти:\n",
    "train_sample = None\n",
    "part_df = None"
   ]
  },
  {
   "cell_type": "code",
   "execution_count": 27,
   "metadata": {
    "ExecuteTime": {
     "end_time": "2018-11-11T14:56:16.392787Z",
     "start_time": "2018-11-11T14:56:16.389069Z"
    }
   },
   "outputs": [],
   "source": [
    "# логарифмирование цены используем для CatBoost'a\n",
    "# y_part = np.log1p(y_part)\n",
    "# y = np.log1p(y)"
   ]
  },
  {
   "cell_type": "markdown",
   "metadata": {
    "ExecuteTime": {
     "end_time": "2018-11-07T07:41:00.598459Z",
     "start_time": "2018-11-07T07:41:00.594932Z"
    }
   },
   "source": [
    "# RandomForestRegressor"
   ]
  },
  {
   "cell_type": "code",
   "execution_count": 9,
   "metadata": {
    "ExecuteTime": {
     "end_time": "2018-11-11T16:00:11.401433Z",
     "start_time": "2018-11-11T16:00:11.394152Z"
    }
   },
   "outputs": [],
   "source": [
    "rfr = RandomForestRegressor(n_jobs=8, random_state=282, n_estimators=50)\n",
    "param_grid = {\n",
    "# 'min_samples_split': [2, 4],\n",
    "# 'min_samples_leaf': [1, 2],\n",
    "    'n_estimators': range(100,101)\n",
    "}\n",
    "cv = StratifiedKFold(n_splits=5, shuffle=True, random_state=282)\n",
    "rs = RandomizedSearchCV(rfr, param_distributions=param_grid, n_iter=1, n_jobs=-1,\n",
    "                        cv=cv, scoring='neg_mean_squared_log_error', random_state=282)"
   ]
  },
  {
   "cell_type": "code",
   "execution_count": 14,
   "metadata": {
    "ExecuteTime": {
     "end_time": "2018-11-11T16:05:11.505025Z",
     "start_time": "2018-11-11T16:02:54.868580Z"
    }
   },
   "outputs": [
    {
     "data": {
      "text/plain": [
       "RandomizedSearchCV(cv=StratifiedKFold(n_splits=5, random_state=282, shuffle=True),\n",
       "          error_score='raise-deprecating',\n",
       "          estimator=RandomForestRegressor(bootstrap=True, criterion='mse', max_depth=None,\n",
       "           max_features='auto', max_leaf_nodes=None,\n",
       "           min_impurity_decrease=0.0, min_impurity_split=None,\n",
       "           min_samples_leaf=1, min_samples_split=2,\n",
       "           min_weight_fraction_leaf=0.0, n_estimators=50, n_jobs=8,\n",
       "           oob_score=False, random_state=282, verbose=0, warm_start=False),\n",
       "          fit_params=None, iid='warn', n_iter=1, n_jobs=-1,\n",
       "          param_distributions={'n_estimators': range(100, 101)},\n",
       "          pre_dispatch='2*n_jobs', random_state=282, refit=True,\n",
       "          return_train_score='warn', scoring='neg_mean_squared_log_error',\n",
       "          verbose=0)"
      ]
     },
     "execution_count": 14,
     "metadata": {},
     "output_type": "execute_result"
    }
   ],
   "source": [
    "rs.fit(X_part, y_part)"
   ]
  },
  {
   "cell_type": "code",
   "execution_count": 15,
   "metadata": {
    "ExecuteTime": {
     "end_time": "2018-11-11T16:05:12.384713Z",
     "start_time": "2018-11-11T16:05:12.376801Z"
    }
   },
   "outputs": [
    {
     "data": {
      "text/plain": [
       "{'n_estimators': 100}"
      ]
     },
     "execution_count": 15,
     "metadata": {},
     "output_type": "execute_result"
    }
   ],
   "source": [
    "rs.best_params_"
   ]
  },
  {
   "cell_type": "code",
   "execution_count": 16,
   "metadata": {
    "ExecuteTime": {
     "end_time": "2018-11-11T16:05:13.263341Z",
     "start_time": "2018-11-11T16:05:13.257701Z"
    }
   },
   "outputs": [
    {
     "data": {
      "text/plain": [
       "1.321485001270554"
      ]
     },
     "execution_count": 16,
     "metadata": {},
     "output_type": "execute_result"
    }
   ],
   "source": [
    "abs(rs.best_score_)**0.5"
   ]
  },
  {
   "cell_type": "code",
   "execution_count": 13,
   "metadata": {
    "ExecuteTime": {
     "end_time": "2018-11-11T16:02:43.577350Z",
     "start_time": "2018-11-11T16:02:43.567503Z"
    }
   },
   "outputs": [],
   "source": [
    "best_model = rs.best_estimator_"
   ]
  },
  {
   "cell_type": "markdown",
   "metadata": {},
   "source": [
    "# Читаем test_hack, предсказываем"
   ]
  },
  {
   "cell_type": "code",
   "execution_count": 17,
   "metadata": {
    "ExecuteTime": {
     "end_time": "2018-11-11T16:25:11.332333Z",
     "start_time": "2018-11-11T16:24:08.804437Z"
    }
   },
   "outputs": [],
   "source": [
    "test_hack = pickle.load(open('data2/test_hack.pckl', 'rb')).reset_index(drop=True)"
   ]
  },
  {
   "cell_type": "code",
   "execution_count": 18,
   "metadata": {
    "ExecuteTime": {
     "end_time": "2018-11-11T16:25:15.513362Z",
     "start_time": "2018-11-11T16:25:14.623322Z"
    }
   },
   "outputs": [],
   "source": [
    "model_for_file = pd.read_csv('data/submit_Sample.csv', delimiter=',', encoding='utf8', index_col='id')"
   ]
  },
  {
   "cell_type": "code",
   "execution_count": 19,
   "metadata": {
    "ExecuteTime": {
     "end_time": "2018-11-11T16:25:18.841327Z",
     "start_time": "2018-11-11T16:25:18.828346Z"
    }
   },
   "outputs": [
    {
     "data": {
      "text/html": [
       "<div>\n",
       "<style scoped>\n",
       "    .dataframe tbody tr th:only-of-type {\n",
       "        vertical-align: middle;\n",
       "    }\n",
       "\n",
       "    .dataframe tbody tr th {\n",
       "        vertical-align: top;\n",
       "    }\n",
       "\n",
       "    .dataframe thead th {\n",
       "        text-align: right;\n",
       "    }\n",
       "</style>\n",
       "<table border=\"1\" class=\"dataframe\">\n",
       "  <thead>\n",
       "    <tr style=\"text-align: right;\">\n",
       "      <th></th>\n",
       "      <th>price</th>\n",
       "    </tr>\n",
       "    <tr>\n",
       "      <th>id</th>\n",
       "      <th></th>\n",
       "    </tr>\n",
       "  </thead>\n",
       "  <tbody>\n",
       "    <tr>\n",
       "      <th>285ea2e9935ccdeb8378c6a5</th>\n",
       "      <td>0</td>\n",
       "    </tr>\n",
       "    <tr>\n",
       "      <th>adfb73820bbb831257df6e95</th>\n",
       "      <td>0</td>\n",
       "    </tr>\n",
       "    <tr>\n",
       "      <th>783025601c36202f633fc6a5</th>\n",
       "      <td>0</td>\n",
       "    </tr>\n",
       "    <tr>\n",
       "      <th>2f0cd2d2e15dc90afd847f95</th>\n",
       "      <td>0</td>\n",
       "    </tr>\n",
       "    <tr>\n",
       "      <th>5c23a37902855a20172845a5</th>\n",
       "      <td>0</td>\n",
       "    </tr>\n",
       "  </tbody>\n",
       "</table>\n",
       "</div>"
      ],
      "text/plain": [
       "                          price\n",
       "id                             \n",
       "285ea2e9935ccdeb8378c6a5      0\n",
       "adfb73820bbb831257df6e95      0\n",
       "783025601c36202f633fc6a5      0\n",
       "2f0cd2d2e15dc90afd847f95      0\n",
       "5c23a37902855a20172845a5      0"
      ]
     },
     "execution_count": 19,
     "metadata": {},
     "output_type": "execute_result"
    }
   ],
   "source": [
    "model_for_file.head()"
   ]
  },
  {
   "cell_type": "code",
   "execution_count": 20,
   "metadata": {
    "ExecuteTime": {
     "end_time": "2018-11-11T16:28:55.151566Z",
     "start_time": "2018-11-11T16:25:22.113090Z"
    }
   },
   "outputs": [],
   "source": [
    "# предобработка test_hack\n",
    "test_hack = test_hack.pipe(preproc, True).pipe(df_to_cv, True)"
   ]
  },
  {
   "cell_type": "code",
   "execution_count": 21,
   "metadata": {
    "ExecuteTime": {
     "end_time": "2018-11-11T16:31:12.708602Z",
     "start_time": "2018-11-11T16:31:12.676865Z"
    }
   },
   "outputs": [
    {
     "data": {
      "text/html": [
       "<div>\n",
       "<style scoped>\n",
       "    .dataframe tbody tr th:only-of-type {\n",
       "        vertical-align: middle;\n",
       "    }\n",
       "\n",
       "    .dataframe tbody tr th {\n",
       "        vertical-align: top;\n",
       "    }\n",
       "\n",
       "    .dataframe thead th {\n",
       "        text-align: right;\n",
       "    }\n",
       "</style>\n",
       "<table border=\"1\" class=\"dataframe\">\n",
       "  <thead>\n",
       "    <tr style=\"text-align: right;\">\n",
       "      <th></th>\n",
       "      <th>date_created</th>\n",
       "      <th>description</th>\n",
       "      <th>payment_available</th>\n",
       "      <th>subcategory</th>\n",
       "      <th>subcity</th>\n",
       "      <th>lat</th>\n",
       "      <th>lon</th>\n",
       "      <th>city</th>\n",
       "      <th>free</th>\n",
       "      <th>iphone</th>\n",
       "      <th>...</th>\n",
       "      <th>состояние</th>\n",
       "      <th>телефон</th>\n",
       "      <th>торг</th>\n",
       "      <th>тёплый</th>\n",
       "      <th>удобный</th>\n",
       "      <th>фото</th>\n",
       "      <th>хороший</th>\n",
       "      <th>цвета</th>\n",
       "      <th>цена</th>\n",
       "      <th>чехол</th>\n",
       "    </tr>\n",
       "  </thead>\n",
       "  <tbody>\n",
       "    <tr>\n",
       "      <th>0</th>\n",
       "      <td>1517061944</td>\n",
       "      <td>28</td>\n",
       "      <td>1</td>\n",
       "      <td>603</td>\n",
       "      <td>9506</td>\n",
       "      <td>54.74306</td>\n",
       "      <td>55.96779</td>\n",
       "      <td>16248</td>\n",
       "      <td>0</td>\n",
       "      <td>0.0</td>\n",
       "      <td>...</td>\n",
       "      <td>0.000000</td>\n",
       "      <td>0.0</td>\n",
       "      <td>0.0</td>\n",
       "      <td>0.0</td>\n",
       "      <td>0.0</td>\n",
       "      <td>0.000000</td>\n",
       "      <td>0.000000</td>\n",
       "      <td>0.0</td>\n",
       "      <td>0.0</td>\n",
       "      <td>0.0</td>\n",
       "    </tr>\n",
       "    <tr>\n",
       "      <th>1</th>\n",
       "      <td>1508310389</td>\n",
       "      <td>122</td>\n",
       "      <td>1</td>\n",
       "      <td>203</td>\n",
       "      <td>576</td>\n",
       "      <td>59.73833</td>\n",
       "      <td>30.08944</td>\n",
       "      <td>42337</td>\n",
       "      <td>0</td>\n",
       "      <td>0.0</td>\n",
       "      <td>...</td>\n",
       "      <td>0.000000</td>\n",
       "      <td>0.0</td>\n",
       "      <td>0.0</td>\n",
       "      <td>0.0</td>\n",
       "      <td>0.0</td>\n",
       "      <td>0.000000</td>\n",
       "      <td>0.000000</td>\n",
       "      <td>0.0</td>\n",
       "      <td>0.0</td>\n",
       "      <td>0.0</td>\n",
       "    </tr>\n",
       "    <tr>\n",
       "      <th>2</th>\n",
       "      <td>1517089590</td>\n",
       "      <td>634</td>\n",
       "      <td>0</td>\n",
       "      <td>116</td>\n",
       "      <td>1090</td>\n",
       "      <td>55.98028</td>\n",
       "      <td>37.135</td>\n",
       "      <td>91690</td>\n",
       "      <td>0</td>\n",
       "      <td>0.0</td>\n",
       "      <td>...</td>\n",
       "      <td>0.416424</td>\n",
       "      <td>0.0</td>\n",
       "      <td>0.0</td>\n",
       "      <td>0.0</td>\n",
       "      <td>0.0</td>\n",
       "      <td>0.461439</td>\n",
       "      <td>0.330761</td>\n",
       "      <td>0.0</td>\n",
       "      <td>0.0</td>\n",
       "      <td>0.0</td>\n",
       "    </tr>\n",
       "    <tr>\n",
       "      <th>3</th>\n",
       "      <td>1509378271</td>\n",
       "      <td>0</td>\n",
       "      <td>1</td>\n",
       "      <td>1009</td>\n",
       "      <td>1657</td>\n",
       "      <td>55.80961</td>\n",
       "      <td>37.78739</td>\n",
       "      <td>87647</td>\n",
       "      <td>0</td>\n",
       "      <td>0.0</td>\n",
       "      <td>...</td>\n",
       "      <td>0.000000</td>\n",
       "      <td>0.0</td>\n",
       "      <td>0.0</td>\n",
       "      <td>0.0</td>\n",
       "      <td>0.0</td>\n",
       "      <td>0.000000</td>\n",
       "      <td>0.000000</td>\n",
       "      <td>0.0</td>\n",
       "      <td>0.0</td>\n",
       "      <td>0.0</td>\n",
       "    </tr>\n",
       "    <tr>\n",
       "      <th>4</th>\n",
       "      <td>1515487857</td>\n",
       "      <td>145</td>\n",
       "      <td>0</td>\n",
       "      <td>1104</td>\n",
       "      <td>2281</td>\n",
       "      <td>59.84167</td>\n",
       "      <td>30.25583</td>\n",
       "      <td>42337</td>\n",
       "      <td>0</td>\n",
       "      <td>0.0</td>\n",
       "      <td>...</td>\n",
       "      <td>0.000000</td>\n",
       "      <td>0.0</td>\n",
       "      <td>0.0</td>\n",
       "      <td>0.0</td>\n",
       "      <td>0.0</td>\n",
       "      <td>0.000000</td>\n",
       "      <td>0.000000</td>\n",
       "      <td>0.0</td>\n",
       "      <td>0.0</td>\n",
       "      <td>0.0</td>\n",
       "    </tr>\n",
       "  </tbody>\n",
       "</table>\n",
       "<p>5 rows × 47 columns</p>\n",
       "</div>"
      ],
      "text/plain": [
       "   date_created  description  payment_available  subcategory  subcity  \\\n",
       "0    1517061944           28                  1          603     9506   \n",
       "1    1508310389          122                  1          203      576   \n",
       "2    1517089590          634                  0          116     1090   \n",
       "3    1509378271            0                  1         1009     1657   \n",
       "4    1515487857          145                  0         1104     2281   \n",
       "\n",
       "        lat       lon   city  free  iphone  ...    состояние  телефон  торг  \\\n",
       "0  54.74306  55.96779  16248     0     0.0  ...     0.000000      0.0   0.0   \n",
       "1  59.73833  30.08944  42337     0     0.0  ...     0.000000      0.0   0.0   \n",
       "2  55.98028    37.135  91690     0     0.0  ...     0.416424      0.0   0.0   \n",
       "3  55.80961  37.78739  87647     0     0.0  ...     0.000000      0.0   0.0   \n",
       "4  59.84167  30.25583  42337     0     0.0  ...     0.000000      0.0   0.0   \n",
       "\n",
       "   тёплый  удобный      фото   хороший  цвета  цена  чехол  \n",
       "0     0.0      0.0  0.000000  0.000000    0.0   0.0    0.0  \n",
       "1     0.0      0.0  0.000000  0.000000    0.0   0.0    0.0  \n",
       "2     0.0      0.0  0.461439  0.330761    0.0   0.0    0.0  \n",
       "3     0.0      0.0  0.000000  0.000000    0.0   0.0    0.0  \n",
       "4     0.0      0.0  0.000000  0.000000    0.0   0.0    0.0  \n",
       "\n",
       "[5 rows x 47 columns]"
      ]
     },
     "execution_count": 21,
     "metadata": {},
     "output_type": "execute_result"
    }
   ],
   "source": [
    "test_hack.head()"
   ]
  },
  {
   "cell_type": "code",
   "execution_count": 22,
   "metadata": {
    "ExecuteTime": {
     "end_time": "2018-11-11T16:31:16.611315Z",
     "start_time": "2018-11-11T16:31:16.604930Z"
    }
   },
   "outputs": [
    {
     "data": {
      "text/plain": [
       "(749525, 47)"
      ]
     },
     "execution_count": 22,
     "metadata": {},
     "output_type": "execute_result"
    }
   ],
   "source": [
    "test_hack.shape"
   ]
  },
  {
   "cell_type": "code",
   "execution_count": 23,
   "metadata": {
    "ExecuteTime": {
     "end_time": "2018-11-11T16:31:26.227006Z",
     "start_time": "2018-11-11T16:31:20.455277Z"
    }
   },
   "outputs": [],
   "source": [
    "model_for_file['price'] = best_model.predict(test_hack)"
   ]
  },
  {
   "cell_type": "code",
   "execution_count": 24,
   "metadata": {
    "ExecuteTime": {
     "end_time": "2018-11-11T16:31:32.547775Z",
     "start_time": "2018-11-11T16:31:32.154775Z"
    }
   },
   "outputs": [],
   "source": [
    "model_for_file['price'] = model_for_file['price'].map(lambda x: int(x))"
   ]
  },
  {
   "cell_type": "code",
   "execution_count": 26,
   "metadata": {
    "ExecuteTime": {
     "end_time": "2018-11-11T16:31:46.166501Z",
     "start_time": "2018-11-11T16:31:44.868804Z"
    }
   },
   "outputs": [],
   "source": [
    "model_for_file.to_csv('predict_1.33.csv')"
   ]
  }
 ],
 "metadata": {
  "kernelspec": {
   "display_name": "Python 3",
   "language": "python",
   "name": "python3"
  },
  "language_info": {
   "codemirror_mode": {
    "name": "ipython",
    "version": 3
   },
   "file_extension": ".py",
   "mimetype": "text/x-python",
   "name": "python",
   "nbconvert_exporter": "python",
   "pygments_lexer": "ipython3",
   "version": "3.5.2"
  },
  "varInspector": {
   "cols": {
    "lenName": 16,
    "lenType": 16,
    "lenVar": 40
   },
   "kernels_config": {
    "python": {
     "delete_cmd_postfix": "",
     "delete_cmd_prefix": "del ",
     "library": "var_list.py",
     "varRefreshCmd": "print(var_dic_list())"
    },
    "r": {
     "delete_cmd_postfix": ") ",
     "delete_cmd_prefix": "rm(",
     "library": "var_list.r",
     "varRefreshCmd": "cat(var_dic_list()) "
    }
   },
   "position": {
    "height": "708px",
    "left": "1241px",
    "right": "20px",
    "top": "43px",
    "width": "327px"
   },
   "types_to_exclude": [
    "module",
    "function",
    "builtin_function_or_method",
    "instance",
    "_Feature"
   ],
   "window_display": false
  }
 },
 "nbformat": 4,
 "nbformat_minor": 2
}
